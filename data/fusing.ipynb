{
 "cells": [
  {
   "cell_type": "code",
   "execution_count": 2,
   "id": "cbdc637e",
   "metadata": {},
   "outputs": [
    {
     "name": "stdout",
     "output_type": "stream",
     "text": [
      "\n",
      "Successfully saved updated CSV to stats1524_handedness.csv\n"
     ]
    }
   ],
   "source": [
    "import pandas as pd\n",
    "\n",
    "# Read the stats CSV\n",
    "stats_df = pd.read_csv(\"stats1524.csv\")\n",
    "\n",
    "# Read the player ID mapping CSV\n",
    "player_map_df = pd.read_csv(\"PLAYERIDMAP.csv\")\n",
    "\n",
    "# Create a subset of the player map with just the columns we need\n",
    "player_map_df = player_map_df[[\"MLBID\", \"IDFANGRAPHS\", \"BREFID\", \"POS\", \"BATS\", \"THROWS\"]].copy()\n",
    "\n",
    "# Merge the dataframes on player_id = MLBID\n",
    "merged_df = stats_df.merge(\n",
    "    player_map_df,\n",
    "    left_on=\"player_id\",\n",
    "    right_on=\"MLBID\", \n",
    "    how=\"left\"\n",
    ")\n",
    "\n",
    "# Drop the duplicate MLBID column\n",
    "merged_df = merged_df.drop(columns=[\"MLBID\"])\n",
    "\n",
    "# Save to CSV\n",
    "output_path = \"stats1524_handedness.csv\"\n",
    "merged_df.to_csv(output_path, index=False)\n",
    "print(f\"\\nSuccessfully saved updated CSV to {output_path}\")\n"
   ]
  },
  {
   "cell_type": "code",
   "execution_count": 3,
   "id": "4727bc98",
   "metadata": {},
   "outputs": [
    {
     "name": "stdout",
     "output_type": "stream",
     "text": [
      "\n",
      "Successfully saved updated CSV to stats1524_handedness_people.csv\n"
     ]
    }
   ],
   "source": [
    "#read People.csv\n",
    "people_df = pd.read_csv(\"People.csv\")\n",
    "\n",
    "# height and weight, join on BREFID \n",
    "people_df = people_df[[\"bbrefID\", \"height\", \"weight\"]].copy()\n",
    "\n",
    "merged_df = merged_df.merge(\n",
    "    people_df,\n",
    "    left_on=\"BREFID\",\n",
    "    right_on=\"bbrefID\", \n",
    "    how=\"left\"\n",
    ")\n",
    "# Drop the duplicate bbrefID column\n",
    "merged_df = merged_df.drop(columns=[\"bbrefID\"])\n",
    "\n",
    "# Save to CSV\n",
    "output_path = \"stats1524_handedness_people.csv\"\n",
    "merged_df.to_csv(output_path, index=False)\n",
    "print(f\"\\nSuccessfully saved updated CSV to {output_path}\")"
   ]
  },
  {
   "cell_type": "code",
   "execution_count": 4,
   "id": "bd132471",
   "metadata": {},
   "outputs": [
    {
     "name": "stdout",
     "output_type": "stream",
     "text": [
      "\n",
      "Rows with NaN values:\n",
      "     last_name, first_name  player_id  year  player_age   ab   pa  hit  \\\n",
      "1368           Keith, Colt     690993  2024          22  516  556  134   \n",
      "1370      Chourio, Jackson     694192  2024          20  528  573  145   \n",
      "1372       Langford, Wyatt     694671  2024          22  499  557  126   \n",
      "1374      Merrill, Jackson     701538  2024          21  554  593  162   \n",
      "\n",
      "      single  double  triple  ...  on_base_percent  on_base_plus_slg   woba  \\\n",
      "1368     102      15       4  ...            0.309             0.689  0.301   \n",
      "1370      91      29       4  ...            0.327             0.791  0.339   \n",
      "1372      81      25       4  ...            0.325             0.740  0.321   \n",
      "1374     101      31       6  ...            0.326             0.826  0.352   \n",
      "\n",
      "      IDFANGRAPHS     BREFID  POS  BATS  THROWS  height  weight  \n",
      "1368        27899  keithco01   2B     L       R     NaN     NaN  \n",
      "1370        28806  chourja01   OF     R       R     NaN     NaN  \n",
      "1372        33333  langfwy01   OF     R       R     NaN     NaN  \n",
      "1374        29490  merrija01   OF     L       R     NaN     NaN  \n",
      "\n",
      "[4 rows x 27 columns]\n"
     ]
    }
   ],
   "source": [
    "# print all Nan\n",
    "nan_rows = merged_df[merged_df.isna().any(axis=1)]\n",
    "print(\"\\nRows with NaN values:\")\n",
    "print(nan_rows)"
   ]
  },
  {
   "cell_type": "code",
   "execution_count": 5,
   "id": "25ed122f",
   "metadata": {},
   "outputs": [
    {
     "name": "stdout",
     "output_type": "stream",
     "text": [
      "\n",
      "Successfully saved updated CSV to stats1524_handedness_people.csv\n"
     ]
    }
   ],
   "source": [
    "# keithco01 height 74.0 weight 211.0\n",
    "# chourja01 height 72.0 weight 204.0\n",
    "# langfwy01 height 72.0 weight 225.0\n",
    "# merrija01 height 75.0 weight 195.0\n",
    "# update the height and weight for these players\n",
    "merged_df.loc[merged_df[\"BREFID\"] == \"keithco01\", [\"height\", \"weight\"]] = [74.0, 211.0]\n",
    "merged_df.loc[merged_df[\"BREFID\"] == \"chourja01\", [\"height\", \"weight\"]] = [72.0, 204.0]\n",
    "merged_df.loc[merged_df[\"BREFID\"] == \"langfwy01\", [\"height\", \"weight\"]] = [72.0, 225.0]\n",
    "merged_df.loc[merged_df[\"BREFID\"] == \"merrija01\", [\"height\", \"weight\"]] = [75.0, 195.0]\n",
    "# Save to CSV\n",
    "output_path = \"stats1524_handedness_people.csv\"\n",
    "merged_df.to_csv(output_path, index=False)\n",
    "print(f\"\\nSuccessfully saved updated CSV to {output_path}\")"
   ]
  },
  {
   "cell_type": "code",
   "execution_count": 12,
   "id": "2da22c1f",
   "metadata": {},
   "outputs": [
    {
     "name": "stdout",
     "output_type": "stream",
     "text": [
      "\n",
      "Column data types:\n",
      "last_name, first_name     object\n",
      "player_id                  int64\n",
      "year                       int64\n",
      "player_age                 int64\n",
      "ab                         int64\n",
      "pa                         int64\n",
      "hit                        int64\n",
      "single                     int64\n",
      "double                     int64\n",
      "triple                     int64\n",
      "home_run                   int64\n",
      "strikeout                  int64\n",
      "walk                       int64\n",
      "k_percent                float64\n",
      "bb_percent               float64\n",
      "batting_avg              float64\n",
      "slg_percent              float64\n",
      "on_base_percent          float64\n",
      "on_base_plus_slg         float64\n",
      "woba                     float64\n",
      "IDFANGRAPHS               object\n",
      "BREFID                    object\n",
      "POS                       object\n",
      "BATS                      object\n",
      "THROWS                    object\n",
      "height                   float64\n",
      "weight                   float64\n",
      "dtype: object\n"
     ]
    }
   ],
   "source": [
    "# print column data types\n",
    "print(\"\\nColumn data types:\")\n",
    "print(merged_df.dtypes)\n"
   ]
  },
  {
   "cell_type": "code",
   "execution_count": 13,
   "id": "2d207f78",
   "metadata": {},
   "outputs": [
    {
     "ename": "ValueError",
     "evalue": "invalid literal for int() with base 10: 'Hunter, Torii'",
     "output_type": "error",
     "traceback": [
      "\u001b[31m---------------------------------------------------------------------------\u001b[39m",
      "\u001b[31mValueError\u001b[39m                                Traceback (most recent call last)",
      "\u001b[36mCell\u001b[39m\u001b[36m \u001b[39m\u001b[32mIn[13]\u001b[39m\u001b[32m, line 2\u001b[39m\n\u001b[32m      1\u001b[39m \u001b[38;5;28;01mfor\u001b[39;00m col \u001b[38;5;129;01min\u001b[39;00m merged_df.columns:\n\u001b[32m----> \u001b[39m\u001b[32m2\u001b[39m     merged_df[col] = \u001b[43m(\u001b[49m\u001b[43mmerged_df\u001b[49m\u001b[43m[\u001b[49m\u001b[43mcol\u001b[49m\u001b[43m]\u001b[49m\u001b[43m)\u001b[49m\u001b[43m.\u001b[49m\u001b[43mastype\u001b[49m\u001b[43m(\u001b[49m\u001b[38;5;28;43mint\u001b[39;49m\u001b[43m)\u001b[49m\n\u001b[32m      3\u001b[39m \u001b[38;5;28mprint\u001b[39m(merged_df.dtypes)\n",
      "\u001b[36mFile \u001b[39m\u001b[32m~/baseballfinal/.venv/lib/python3.12/site-packages/pandas/core/generic.py:6643\u001b[39m, in \u001b[36mNDFrame.astype\u001b[39m\u001b[34m(self, dtype, copy, errors)\u001b[39m\n\u001b[32m   6637\u001b[39m     results = [\n\u001b[32m   6638\u001b[39m         ser.astype(dtype, copy=copy, errors=errors) \u001b[38;5;28;01mfor\u001b[39;00m _, ser \u001b[38;5;129;01min\u001b[39;00m \u001b[38;5;28mself\u001b[39m.items()\n\u001b[32m   6639\u001b[39m     ]\n\u001b[32m   6641\u001b[39m \u001b[38;5;28;01melse\u001b[39;00m:\n\u001b[32m   6642\u001b[39m     \u001b[38;5;66;03m# else, only a single dtype is given\u001b[39;00m\n\u001b[32m-> \u001b[39m\u001b[32m6643\u001b[39m     new_data = \u001b[38;5;28;43mself\u001b[39;49m\u001b[43m.\u001b[49m\u001b[43m_mgr\u001b[49m\u001b[43m.\u001b[49m\u001b[43mastype\u001b[49m\u001b[43m(\u001b[49m\u001b[43mdtype\u001b[49m\u001b[43m=\u001b[49m\u001b[43mdtype\u001b[49m\u001b[43m,\u001b[49m\u001b[43m \u001b[49m\u001b[43mcopy\u001b[49m\u001b[43m=\u001b[49m\u001b[43mcopy\u001b[49m\u001b[43m,\u001b[49m\u001b[43m \u001b[49m\u001b[43merrors\u001b[49m\u001b[43m=\u001b[49m\u001b[43merrors\u001b[49m\u001b[43m)\u001b[49m\n\u001b[32m   6644\u001b[39m     res = \u001b[38;5;28mself\u001b[39m._constructor_from_mgr(new_data, axes=new_data.axes)\n\u001b[32m   6645\u001b[39m     \u001b[38;5;28;01mreturn\u001b[39;00m res.__finalize__(\u001b[38;5;28mself\u001b[39m, method=\u001b[33m\"\u001b[39m\u001b[33mastype\u001b[39m\u001b[33m\"\u001b[39m)\n",
      "\u001b[36mFile \u001b[39m\u001b[32m~/baseballfinal/.venv/lib/python3.12/site-packages/pandas/core/internals/managers.py:430\u001b[39m, in \u001b[36mBaseBlockManager.astype\u001b[39m\u001b[34m(self, dtype, copy, errors)\u001b[39m\n\u001b[32m    427\u001b[39m \u001b[38;5;28;01melif\u001b[39;00m using_copy_on_write():\n\u001b[32m    428\u001b[39m     copy = \u001b[38;5;28;01mFalse\u001b[39;00m\n\u001b[32m--> \u001b[39m\u001b[32m430\u001b[39m \u001b[38;5;28;01mreturn\u001b[39;00m \u001b[38;5;28;43mself\u001b[39;49m\u001b[43m.\u001b[49m\u001b[43mapply\u001b[49m\u001b[43m(\u001b[49m\n\u001b[32m    431\u001b[39m \u001b[43m    \u001b[49m\u001b[33;43m\"\u001b[39;49m\u001b[33;43mastype\u001b[39;49m\u001b[33;43m\"\u001b[39;49m\u001b[43m,\u001b[49m\n\u001b[32m    432\u001b[39m \u001b[43m    \u001b[49m\u001b[43mdtype\u001b[49m\u001b[43m=\u001b[49m\u001b[43mdtype\u001b[49m\u001b[43m,\u001b[49m\n\u001b[32m    433\u001b[39m \u001b[43m    \u001b[49m\u001b[43mcopy\u001b[49m\u001b[43m=\u001b[49m\u001b[43mcopy\u001b[49m\u001b[43m,\u001b[49m\n\u001b[32m    434\u001b[39m \u001b[43m    \u001b[49m\u001b[43merrors\u001b[49m\u001b[43m=\u001b[49m\u001b[43merrors\u001b[49m\u001b[43m,\u001b[49m\n\u001b[32m    435\u001b[39m \u001b[43m    \u001b[49m\u001b[43musing_cow\u001b[49m\u001b[43m=\u001b[49m\u001b[43musing_copy_on_write\u001b[49m\u001b[43m(\u001b[49m\u001b[43m)\u001b[49m\u001b[43m,\u001b[49m\n\u001b[32m    436\u001b[39m \u001b[43m\u001b[49m\u001b[43m)\u001b[49m\n",
      "\u001b[36mFile \u001b[39m\u001b[32m~/baseballfinal/.venv/lib/python3.12/site-packages/pandas/core/internals/managers.py:363\u001b[39m, in \u001b[36mBaseBlockManager.apply\u001b[39m\u001b[34m(self, f, align_keys, **kwargs)\u001b[39m\n\u001b[32m    361\u001b[39m         applied = b.apply(f, **kwargs)\n\u001b[32m    362\u001b[39m     \u001b[38;5;28;01melse\u001b[39;00m:\n\u001b[32m--> \u001b[39m\u001b[32m363\u001b[39m         applied = \u001b[38;5;28;43mgetattr\u001b[39;49m\u001b[43m(\u001b[49m\u001b[43mb\u001b[49m\u001b[43m,\u001b[49m\u001b[43m \u001b[49m\u001b[43mf\u001b[49m\u001b[43m)\u001b[49m\u001b[43m(\u001b[49m\u001b[43m*\u001b[49m\u001b[43m*\u001b[49m\u001b[43mkwargs\u001b[49m\u001b[43m)\u001b[49m\n\u001b[32m    364\u001b[39m     result_blocks = extend_blocks(applied, result_blocks)\n\u001b[32m    366\u001b[39m out = \u001b[38;5;28mtype\u001b[39m(\u001b[38;5;28mself\u001b[39m).from_blocks(result_blocks, \u001b[38;5;28mself\u001b[39m.axes)\n",
      "\u001b[36mFile \u001b[39m\u001b[32m~/baseballfinal/.venv/lib/python3.12/site-packages/pandas/core/internals/blocks.py:758\u001b[39m, in \u001b[36mBlock.astype\u001b[39m\u001b[34m(self, dtype, copy, errors, using_cow, squeeze)\u001b[39m\n\u001b[32m    755\u001b[39m         \u001b[38;5;28;01mraise\u001b[39;00m \u001b[38;5;167;01mValueError\u001b[39;00m(\u001b[33m\"\u001b[39m\u001b[33mCan not squeeze with more than one column.\u001b[39m\u001b[33m\"\u001b[39m)\n\u001b[32m    756\u001b[39m     values = values[\u001b[32m0\u001b[39m, :]  \u001b[38;5;66;03m# type: ignore[call-overload]\u001b[39;00m\n\u001b[32m--> \u001b[39m\u001b[32m758\u001b[39m new_values = \u001b[43mastype_array_safe\u001b[49m\u001b[43m(\u001b[49m\u001b[43mvalues\u001b[49m\u001b[43m,\u001b[49m\u001b[43m \u001b[49m\u001b[43mdtype\u001b[49m\u001b[43m,\u001b[49m\u001b[43m \u001b[49m\u001b[43mcopy\u001b[49m\u001b[43m=\u001b[49m\u001b[43mcopy\u001b[49m\u001b[43m,\u001b[49m\u001b[43m \u001b[49m\u001b[43merrors\u001b[49m\u001b[43m=\u001b[49m\u001b[43merrors\u001b[49m\u001b[43m)\u001b[49m\n\u001b[32m    760\u001b[39m new_values = maybe_coerce_values(new_values)\n\u001b[32m    762\u001b[39m refs = \u001b[38;5;28;01mNone\u001b[39;00m\n",
      "\u001b[36mFile \u001b[39m\u001b[32m~/baseballfinal/.venv/lib/python3.12/site-packages/pandas/core/dtypes/astype.py:237\u001b[39m, in \u001b[36mastype_array_safe\u001b[39m\u001b[34m(values, dtype, copy, errors)\u001b[39m\n\u001b[32m    234\u001b[39m     dtype = dtype.numpy_dtype\n\u001b[32m    236\u001b[39m \u001b[38;5;28;01mtry\u001b[39;00m:\n\u001b[32m--> \u001b[39m\u001b[32m237\u001b[39m     new_values = \u001b[43mastype_array\u001b[49m\u001b[43m(\u001b[49m\u001b[43mvalues\u001b[49m\u001b[43m,\u001b[49m\u001b[43m \u001b[49m\u001b[43mdtype\u001b[49m\u001b[43m,\u001b[49m\u001b[43m \u001b[49m\u001b[43mcopy\u001b[49m\u001b[43m=\u001b[49m\u001b[43mcopy\u001b[49m\u001b[43m)\u001b[49m\n\u001b[32m    238\u001b[39m \u001b[38;5;28;01mexcept\u001b[39;00m (\u001b[38;5;167;01mValueError\u001b[39;00m, \u001b[38;5;167;01mTypeError\u001b[39;00m):\n\u001b[32m    239\u001b[39m     \u001b[38;5;66;03m# e.g. _astype_nansafe can fail on object-dtype of strings\u001b[39;00m\n\u001b[32m    240\u001b[39m     \u001b[38;5;66;03m#  trying to convert to float\u001b[39;00m\n\u001b[32m    241\u001b[39m     \u001b[38;5;28;01mif\u001b[39;00m errors == \u001b[33m\"\u001b[39m\u001b[33mignore\u001b[39m\u001b[33m\"\u001b[39m:\n",
      "\u001b[36mFile \u001b[39m\u001b[32m~/baseballfinal/.venv/lib/python3.12/site-packages/pandas/core/dtypes/astype.py:182\u001b[39m, in \u001b[36mastype_array\u001b[39m\u001b[34m(values, dtype, copy)\u001b[39m\n\u001b[32m    179\u001b[39m     values = values.astype(dtype, copy=copy)\n\u001b[32m    181\u001b[39m \u001b[38;5;28;01melse\u001b[39;00m:\n\u001b[32m--> \u001b[39m\u001b[32m182\u001b[39m     values = \u001b[43m_astype_nansafe\u001b[49m\u001b[43m(\u001b[49m\u001b[43mvalues\u001b[49m\u001b[43m,\u001b[49m\u001b[43m \u001b[49m\u001b[43mdtype\u001b[49m\u001b[43m,\u001b[49m\u001b[43m \u001b[49m\u001b[43mcopy\u001b[49m\u001b[43m=\u001b[49m\u001b[43mcopy\u001b[49m\u001b[43m)\u001b[49m\n\u001b[32m    184\u001b[39m \u001b[38;5;66;03m# in pandas we don't store numpy str dtypes, so convert to object\u001b[39;00m\n\u001b[32m    185\u001b[39m \u001b[38;5;28;01mif\u001b[39;00m \u001b[38;5;28misinstance\u001b[39m(dtype, np.dtype) \u001b[38;5;129;01mand\u001b[39;00m \u001b[38;5;28missubclass\u001b[39m(values.dtype.type, \u001b[38;5;28mstr\u001b[39m):\n",
      "\u001b[36mFile \u001b[39m\u001b[32m~/baseballfinal/.venv/lib/python3.12/site-packages/pandas/core/dtypes/astype.py:133\u001b[39m, in \u001b[36m_astype_nansafe\u001b[39m\u001b[34m(arr, dtype, copy, skipna)\u001b[39m\n\u001b[32m    129\u001b[39m     \u001b[38;5;28;01mraise\u001b[39;00m \u001b[38;5;167;01mValueError\u001b[39;00m(msg)\n\u001b[32m    131\u001b[39m \u001b[38;5;28;01mif\u001b[39;00m copy \u001b[38;5;129;01mor\u001b[39;00m arr.dtype == \u001b[38;5;28mobject\u001b[39m \u001b[38;5;129;01mor\u001b[39;00m dtype == \u001b[38;5;28mobject\u001b[39m:\n\u001b[32m    132\u001b[39m     \u001b[38;5;66;03m# Explicit copy, or required since NumPy can't view from / to object.\u001b[39;00m\n\u001b[32m--> \u001b[39m\u001b[32m133\u001b[39m     \u001b[38;5;28;01mreturn\u001b[39;00m \u001b[43marr\u001b[49m\u001b[43m.\u001b[49m\u001b[43mastype\u001b[49m\u001b[43m(\u001b[49m\u001b[43mdtype\u001b[49m\u001b[43m,\u001b[49m\u001b[43m \u001b[49m\u001b[43mcopy\u001b[49m\u001b[43m=\u001b[49m\u001b[38;5;28;43;01mTrue\u001b[39;49;00m\u001b[43m)\u001b[49m\n\u001b[32m    135\u001b[39m \u001b[38;5;28;01mreturn\u001b[39;00m arr.astype(dtype, copy=copy)\n",
      "\u001b[31mValueError\u001b[39m: invalid literal for int() with base 10: 'Hunter, Torii'"
     ]
    }
   ],
   "source": [
    "for col in merged_df.columns:\n",
    "    merged_df[col] = (merged_df[col]).astype(int)\n",
    "print(merged_df.dtypes)\n"
   ]
  },
  {
   "cell_type": "code",
   "execution_count": 7,
   "id": "7da3f40a",
   "metadata": {},
   "outputs": [],
   "source": [
    "# from pybaseball import pybaseball as pyb \n",
    "# batting = pyb.batting_stats(start_season=2021, end_season=2024)\n",
    "# batting.shape\n",
    "\n",
    "# #read in stats.csv\n",
    "# import pandas as pd\n",
    "# bbsavant = pd.read_csv('stats.csv')\n",
    "# #read in sfbb PLAYERIDMAP.csv\n",
    "# playeridmap = pd.read_csv('PLAYERIDMAP.csv')\n",
    "# #add POS,BATS,THROWS, join on MLBID\n"
   ]
  },
  {
   "cell_type": "code",
   "execution_count": 8,
   "id": "0b4d51f5",
   "metadata": {},
   "outputs": [],
   "source": [
    "# # print if any team is missing\n",
    "# missing_teams = merged_df[merged_df[\"TEAM\"].isnull()]\n",
    "# if not missing_teams.empty:\n",
    "#     print(\"Warning: Some players are missing team information.\")\n",
    "#     print(missing_teams[[\"last_name, first_name\", \"TEAM\"]])\n",
    "\n",
    "# # set the team for specific players\n",
    "# merged_df.iloc[4][\"TEAM\"] = \"NYY\"\n",
    "# merged_df.iloc[103][\"TEAM\"] = \"SEA\"\n",
    "# merged_df.iloc[111][\"TEAM\"] = \"COL\"\n",
    "\n",
    "# missing_teams = merged_df[merged_df[\"TEAM\"].isnull()]\n",
    "# if not missing_teams.empty:\n",
    "#     print(\"Warning: Some players are missing team information.\")\n",
    "#     print(missing_teams[[\"last_name, first_name\", \"TEAM\"]])\n"
   ]
  }
 ],
 "metadata": {
  "kernelspec": {
   "display_name": ".venv",
   "language": "python",
   "name": "python3"
  },
  "language_info": {
   "codemirror_mode": {
    "name": "ipython",
    "version": 3
   },
   "file_extension": ".py",
   "mimetype": "text/x-python",
   "name": "python",
   "nbconvert_exporter": "python",
   "pygments_lexer": "ipython3",
   "version": "3.12.3"
  }
 },
 "nbformat": 4,
 "nbformat_minor": 5
}
