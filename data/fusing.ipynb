{
 "cells": [
  {
   "cell_type": "code",
   "execution_count": 2,
   "id": "cbdc637e",
   "metadata": {},
   "outputs": [
    {
     "name": "stdout",
     "output_type": "stream",
     "text": [
      "\n",
      "Successfully saved updated CSV to stats1524_handedness.csv\n"
     ]
    }
   ],
   "source": [
    "import pandas as pd\n",
    "\n",
    "# Read the stats CSV\n",
    "stats_df = pd.read_csv(\"stats1524.csv\")\n",
    "\n",
    "# Read the player ID mapping CSV\n",
    "player_map_df = pd.read_csv(\"PLAYERIDMAP.csv\")\n",
    "\n",
    "# Create a subset of the player map with just the columns we need\n",
    "player_map_df = player_map_df[[\"MLBID\", \"IDFANGRAPHS\", \"BREFID\", \"POS\", \"BATS\", \"THROWS\"]].copy()\n",
    "\n",
    "# Merge the dataframes on player_id = MLBID\n",
    "merged_df = stats_df.merge(\n",
    "    player_map_df,\n",
    "    left_on=\"player_id\",\n",
    "    right_on=\"MLBID\", \n",
    "    how=\"left\"\n",
    ")\n",
    "\n",
    "# Drop the duplicate MLBID column\n",
    "merged_df = merged_df.drop(columns=[\"MLBID\"])\n",
    "\n",
    "# Save to CSV\n",
    "output_path = \"stats1524_handedness.csv\"\n",
    "merged_df.to_csv(output_path, index=False)\n",
    "print(f\"\\nSuccessfully saved updated CSV to {output_path}\")\n"
   ]
  },
  {
   "cell_type": "code",
   "execution_count": 3,
   "id": "4727bc98",
   "metadata": {},
   "outputs": [
    {
     "name": "stdout",
     "output_type": "stream",
     "text": [
      "\n",
      "Successfully saved updated CSV to stats1524_handedness_people.csv\n"
     ]
    }
   ],
   "source": [
    "#read People.csv\n",
    "people_df = pd.read_csv(\"People.csv\")\n",
    "\n",
    "# height and weight, join on BREFID \n",
    "people_df = people_df[[\"bbrefID\", \"height\", \"weight\"]].copy()\n",
    "\n",
    "merged_df = merged_df.merge(\n",
    "    people_df,\n",
    "    left_on=\"BREFID\",\n",
    "    right_on=\"bbrefID\", \n",
    "    how=\"left\"\n",
    ")\n",
    "# Drop the duplicate bbrefID column\n",
    "merged_df = merged_df.drop(columns=[\"bbrefID\"])\n",
    "\n",
    "# Save to CSV\n",
    "output_path = \"stats1524_handedness_people.csv\"\n",
    "merged_df.to_csv(output_path, index=False)\n",
    "print(f\"\\nSuccessfully saved updated CSV to {output_path}\")"
   ]
  },
  {
   "cell_type": "code",
   "execution_count": 6,
   "id": "bd132471",
   "metadata": {},
   "outputs": [
    {
     "name": "stdout",
     "output_type": "stream",
     "text": [
      "\n",
      "Rows with NaN values:\n",
      "Empty DataFrame\n",
      "Columns: [last_name, first_name, player_id, year, player_age, ab, pa, hit, single, double, triple, home_run, strikeout, walk, k_percent, bb_percent, batting_avg, slg_percent, on_base_percent, on_base_plus_slg, woba, IDFANGRAPHS, BREFID, POS, BATS, THROWS, height, weight]\n",
      "Index: []\n",
      "\n",
      "[0 rows x 27 columns]\n"
     ]
    }
   ],
   "source": [
    "# print all Nan\n",
    "nan_rows = merged_df[merged_df.isna().any(axis=1)]\n",
    "print(\"\\nRows with NaN values:\")\n",
    "print(nan_rows)"
   ]
  },
  {
   "cell_type": "code",
   "execution_count": 7,
   "id": "25ed122f",
   "metadata": {},
   "outputs": [
    {
     "name": "stdout",
     "output_type": "stream",
     "text": [
      "\n",
      "Successfully saved updated CSV to stats1524_handedness_people.csv\n"
     ]
    }
   ],
   "source": [
    "# keithco01 height 74.0 weight 211.0\n",
    "# chourja01 height 72.0 weight 204.0\n",
    "# langfwy01 height 72.0 weight 225.0\n",
    "# merrija01 height 75.0 weight 195.0\n",
    "# update the height and weight for these players\n",
    "merged_df.loc[merged_df[\"BREFID\"] == \"keithco01\", [\"height\", \"weight\"]] = [74.0, 211.0]\n",
    "merged_df.loc[merged_df[\"BREFID\"] == \"chourja01\", [\"height\", \"weight\"]] = [72.0, 204.0]\n",
    "merged_df.loc[merged_df[\"BREFID\"] == \"langfwy01\", [\"height\", \"weight\"]] = [72.0, 225.0]\n",
    "merged_df.loc[merged_df[\"BREFID\"] == \"merrija01\", [\"height\", \"weight\"]] = [75.0, 195.0]\n",
    "# Save to CSV\n",
    "output_path = \"stats1524_handedness_people.csv\"\n",
    "merged_df.to_csv(output_path, index=False)\n",
    "print(f\"\\nSuccessfully saved updated CSV to {output_path}\")"
   ]
  },
  {
   "cell_type": "code",
   "execution_count": null,
   "id": "2da22c1f",
   "metadata": {},
   "outputs": [
    {
     "name": "stdout",
     "output_type": "stream",
     "text": [
      "\n",
      "Column data types:\n",
      "last_name, first_name     object\n",
      "player_id                  int64\n",
      "year                       int64\n",
      "player_age                 int64\n",
      "ab                         int64\n",
      "pa                         int64\n",
      "hit                        int64\n",
      "single                     int64\n",
      "double                     int64\n",
      "triple                     int64\n",
      "home_run                   int64\n",
      "strikeout                  int64\n",
      "walk                       int64\n",
      "k_percent                float64\n",
      "bb_percent               float64\n",
      "batting_avg              float64\n",
      "slg_percent              float64\n",
      "on_base_percent          float64\n",
      "on_base_plus_slg         float64\n",
      "woba                     float64\n",
      "IDFANGRAPHS               object\n",
      "BREFID                    object\n",
      "POS                       object\n",
      "BATS                      object\n",
      "THROWS                    object\n",
      "height                   float64\n",
      "weight                   float64\n",
      "dtype: object\n"
     ]
    }
   ],
   "source": [
    "# print column data types\n",
    "print(\"\\nColumn data types:\")\n",
    "print(merged_df.dtypes)\n",
    "\n",
    "# convert all int64 columns to int\n",
    "int_columns = merged_df.select_dtypes(include=['int64']).columns\n"
   ]
  },
  {
   "cell_type": "code",
   "execution_count": 72,
   "id": "7da3f40a",
   "metadata": {},
   "outputs": [],
   "source": [
    "# from pybaseball import pybaseball as pyb \n",
    "# batting = pyb.batting_stats(start_season=2021, end_season=2024)\n",
    "# batting.shape\n",
    "\n",
    "# #read in stats.csv\n",
    "# import pandas as pd\n",
    "# bbsavant = pd.read_csv('stats.csv')\n",
    "# #read in sfbb PLAYERIDMAP.csv\n",
    "# playeridmap = pd.read_csv('PLAYERIDMAP.csv')\n",
    "# #add POS,BATS,THROWS, join on MLBID\n"
   ]
  },
  {
   "cell_type": "code",
   "execution_count": 73,
   "id": "0b4d51f5",
   "metadata": {},
   "outputs": [],
   "source": [
    "# # print if any team is missing\n",
    "# missing_teams = merged_df[merged_df[\"TEAM\"].isnull()]\n",
    "# if not missing_teams.empty:\n",
    "#     print(\"Warning: Some players are missing team information.\")\n",
    "#     print(missing_teams[[\"last_name, first_name\", \"TEAM\"]])\n",
    "\n",
    "# # set the team for specific players\n",
    "# merged_df.iloc[4][\"TEAM\"] = \"NYY\"\n",
    "# merged_df.iloc[103][\"TEAM\"] = \"SEA\"\n",
    "# merged_df.iloc[111][\"TEAM\"] = \"COL\"\n",
    "\n",
    "# missing_teams = merged_df[merged_df[\"TEAM\"].isnull()]\n",
    "# if not missing_teams.empty:\n",
    "#     print(\"Warning: Some players are missing team information.\")\n",
    "#     print(missing_teams[[\"last_name, first_name\", \"TEAM\"]])\n"
   ]
  }
 ],
 "metadata": {
  "kernelspec": {
   "display_name": ".venv",
   "language": "python",
   "name": "python3"
  },
  "language_info": {
   "codemirror_mode": {
    "name": "ipython",
    "version": 3
   },
   "file_extension": ".py",
   "mimetype": "text/x-python",
   "name": "python",
   "nbconvert_exporter": "python",
   "pygments_lexer": "ipython3",
   "version": "3.12.3"
  }
 },
 "nbformat": 4,
 "nbformat_minor": 5
}
