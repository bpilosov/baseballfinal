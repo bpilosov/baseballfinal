{
 "cells": [
  {
   "cell_type": "code",
   "execution_count": 10,
   "id": "cbdc637e",
   "metadata": {},
   "outputs": [
    {
     "name": "stdout",
     "output_type": "stream",
     "text": [
      "\n",
      "Successfully saved updated CSV to stats1524_handedness.csv\n"
     ]
    }
   ],
   "source": [
    "import pandas as pd\n",
    "\n",
    "# Read the stats CSV\n",
    "stats_df = pd.read_csv(\"stats1524.csv\")\n",
    "\n",
    "# Read the player ID mapping CSV\n",
    "player_map_df = pd.read_csv(\"PLAYERIDMAP.csv\")\n",
    "\n",
    "# Create a subset of the player map with just the columns we need\n",
    "player_map_df = player_map_df[[\"MLBID\", \"IDFANGRAPHS\", \"BREFID\", \"POS\", \"BATS\", \"THROWS\"]].copy()\n",
    "\n",
    "# Merge the dataframes on player_id = MLBID\n",
    "merged_df = stats_df.merge(\n",
    "    player_map_df,\n",
    "    left_on=\"player_id\",\n",
    "    right_on=\"MLBID\", \n",
    "    how=\"left\"\n",
    ")\n",
    "\n",
    "# Drop the duplicate MLBID column\n",
    "merged_df = merged_df.drop(columns=[\"MLBID\"])\n",
    "\n",
    "# Save to CSV\n",
    "output_path = \"stats1524_handedness.csv\"\n",
    "merged_df.to_csv(output_path, index=False)\n",
    "print(f\"\\nSuccessfully saved updated CSV to {output_path}\")\n"
   ]
  },
  {
   "cell_type": "code",
   "execution_count": 11,
   "id": "4727bc98",
   "metadata": {},
   "outputs": [
    {
     "name": "stdout",
     "output_type": "stream",
     "text": [
      "\n",
      "Successfully saved updated CSV to stats1524_handedness_people.csv\n"
     ]
    }
   ],
   "source": [
    "#read People.csv\n",
    "people_df = pd.read_csv(\"People.csv\")\n",
    "\n",
    "# height and weight, join on BREFID \n",
    "people_df = people_df[[\"bbrefID\", \"height\", \"weight\"]].copy()\n",
    "\n",
    "merged_df = merged_df.merge(\n",
    "    people_df,\n",
    "    left_on=\"BREFID\",\n",
    "    right_on=\"bbrefID\", \n",
    "    how=\"left\"\n",
    ")\n",
    "# Drop the duplicate bbrefID column\n",
    "merged_df = merged_df.drop(columns=[\"bbrefID\"])\n",
    "\n",
    "# Save to CSV\n",
    "output_path = \"stats1524_handedness_people.csv\"\n",
    "merged_df.to_csv(output_path, index=False)\n",
    "print(f\"\\nSuccessfully saved updated CSV to {output_path}\")"
   ]
  },
  {
   "cell_type": "code",
   "execution_count": 12,
   "id": "bd132471",
   "metadata": {},
   "outputs": [
    {
     "name": "stdout",
     "output_type": "stream",
     "text": [
      "\n",
      "Rows with NaN values:\n",
      "     last_name, first_name  player_id  year  player_age   ab   pa  hit  \\\n",
      "1368           Keith, Colt     690993  2024          22  516  556  134   \n",
      "1370      Chourio, Jackson     694192  2024          20  528  573  145   \n",
      "1372       Langford, Wyatt     694671  2024          22  499  557  126   \n",
      "1374      Merrill, Jackson     701538  2024          21  554  593  162   \n",
      "\n",
      "      single  double  triple  ...  on_base_percent  on_base_plus_slg   woba  \\\n",
      "1368     102      15       4  ...            0.309             0.689  0.301   \n",
      "1370      91      29       4  ...            0.327             0.791  0.339   \n",
      "1372      81      25       4  ...            0.325             0.740  0.321   \n",
      "1374     101      31       6  ...            0.326             0.826  0.352   \n",
      "\n",
      "      IDFANGRAPHS     BREFID  POS  BATS  THROWS  height  weight  \n",
      "1368        27899  keithco01   2B     L       R     NaN     NaN  \n",
      "1370        28806  chourja01   OF     R       R     NaN     NaN  \n",
      "1372        33333  langfwy01   OF     R       R     NaN     NaN  \n",
      "1374        29490  merrija01   OF     L       R     NaN     NaN  \n",
      "\n",
      "[4 rows x 27 columns]\n"
     ]
    }
   ],
   "source": [
    "# print all Nan\n",
    "nan_rows = merged_df[merged_df.isna().any(axis=1)]\n",
    "print(\"\\nRows with NaN values:\")\n",
    "print(nan_rows)"
   ]
  },
  {
   "cell_type": "code",
   "execution_count": 13,
   "id": "25ed122f",
   "metadata": {},
   "outputs": [
    {
     "name": "stdout",
     "output_type": "stream",
     "text": [
      "\n",
      "Successfully saved updated CSV to stats1524_handedness_people.csv\n"
     ]
    }
   ],
   "source": [
    "# keithco01 height 74.0 weight 211.0\n",
    "# chourja01 height 72.0 weight 204.0\n",
    "# langfwy01 height 72.0 weight 225.0\n",
    "# merrija01 height 75.0 weight 195.0\n",
    "# update the height and weight for these players\n",
    "merged_df.loc[merged_df[\"BREFID\"] == \"keithco01\", [\"height\", \"weight\"]] = [74.0, 211.0]\n",
    "merged_df.loc[merged_df[\"BREFID\"] == \"chourja01\", [\"height\", \"weight\"]] = [72.0, 204.0]\n",
    "merged_df.loc[merged_df[\"BREFID\"] == \"langfwy01\", [\"height\", \"weight\"]] = [72.0, 225.0]\n",
    "merged_df.loc[merged_df[\"BREFID\"] == \"merrija01\", [\"height\", \"weight\"]] = [75.0, 195.0]\n",
    "# Save to CSV\n",
    "output_path = \"stats1524_handedness_people.csv\"\n",
    "merged_df.to_csv(output_path, index=False)\n",
    "print(f\"\\nSuccessfully saved updated CSV to {output_path}\")"
   ]
  },
  {
   "cell_type": "code",
   "execution_count": 14,
   "id": "2da22c1f",
   "metadata": {},
   "outputs": [
    {
     "name": "stdout",
     "output_type": "stream",
     "text": [
      "\n",
      "Column data types:\n",
      "last_name, first_name     object\n",
      "player_id                  int64\n",
      "year                       int64\n",
      "player_age                 int64\n",
      "ab                         int64\n",
      "pa                         int64\n",
      "hit                        int64\n",
      "single                     int64\n",
      "double                     int64\n",
      "triple                     int64\n",
      "home_run                   int64\n",
      "strikeout                  int64\n",
      "walk                       int64\n",
      "k_percent                float64\n",
      "bb_percent               float64\n",
      "batting_avg              float64\n",
      "slg_percent              float64\n",
      "on_base_percent          float64\n",
      "on_base_plus_slg         float64\n",
      "woba                     float64\n",
      "IDFANGRAPHS               object\n",
      "BREFID                    object\n",
      "POS                       object\n",
      "BATS                      object\n",
      "THROWS                    object\n",
      "height                   float64\n",
      "weight                   float64\n",
      "dtype: object\n"
     ]
    }
   ],
   "source": [
    "# print column data types\n",
    "print(\"\\nColumn data types:\")\n",
    "print(merged_df.dtypes)"
   ]
  },
  {
   "cell_type": "code",
   "execution_count": 15,
   "id": "e5a6f81d",
   "metadata": {},
   "outputs": [],
   "source": [
    "# sample data to reduce size\n",
    "merged_df = merged_df.sample(frac=0.1, random_state=1)\n",
    "# Save to CSV\n",
    "output_path = \"sample.csv\"\n",
    "merged_df.to_csv(output_path, index=False)\n",
    "\n",
    "# # convert to basic types\n",
    "# for index, row in merged_df.iterrows():\n",
    "#     string_columns = [\"last_name, first_name\", \"IDFANGRAPHS\", \"BREFID\", \"POS\", \"BATS\", \"THROWS\"]\n",
    "#     int_columns = [\"player_id\", \"year\", \"player_age\", \"ab\", \"pa\", \"hit\", \"single\", \"double\", \"triple\", \"home_run\", \"strikeout\", \"walk\", \"height\", \"weight\"]\n",
    "#     float_columns = [\"k_percent\", \"bb_percent\", \"batting_avg\", \"slg_percent\", \"on_base_percent\", \"on_base_plus_slg\", \"woba\"]\n",
    "#     for col in string_columns:\n",
    "#         merged_df[col] = merged_df[col].astype(str)\n",
    "#     for col in int_columns:\n",
    "#         merged_df[col] = merged_df[col].astype(int)\n",
    "#     for col in float_columns:\n",
    "#         merged_df[col] = merged_df[col].astype(float)\n",
    "\n",
    "# # print column data types\n",
    "# print(\"\\nColumn data types:\")\n",
    "# print(merged_df.dtypes)"
   ]
  },
  {
   "cell_type": "code",
   "execution_count": 16,
   "id": "7da3f40a",
   "metadata": {},
   "outputs": [],
   "source": [
    "# from pybaseball import pybaseball as pyb \n",
    "# batting = pyb.batting_stats(start_season=2021, end_season=2024)\n",
    "# batting.shape\n",
    "\n",
    "# #read in stats.csv\n",
    "# import pandas as pd\n",
    "# bbsavant = pd.read_csv('stats.csv')\n",
    "# #read in sfbb PLAYERIDMAP.csv\n",
    "# playeridmap = pd.read_csv('PLAYERIDMAP.csv')\n",
    "# #add POS,BATS,THROWS, join on MLBID\n"
   ]
  },
  {
   "cell_type": "code",
   "execution_count": 17,
   "id": "0b4d51f5",
   "metadata": {},
   "outputs": [],
   "source": [
    "# # print if any team is missing\n",
    "# missing_teams = merged_df[merged_df[\"TEAM\"].isnull()]\n",
    "# if not missing_teams.empty:\n",
    "#     print(\"Warning: Some players are missing team information.\")\n",
    "#     print(missing_teams[[\"last_name, first_name\", \"TEAM\"]])\n",
    "\n",
    "# # set the team for specific players\n",
    "# merged_df.iloc[4][\"TEAM\"] = \"NYY\"\n",
    "# merged_df.iloc[103][\"TEAM\"] = \"SEA\"\n",
    "# merged_df.iloc[111][\"TEAM\"] = \"COL\"\n",
    "\n",
    "# missing_teams = merged_df[merged_df[\"TEAM\"].isnull()]\n",
    "# if not missing_teams.empty:\n",
    "#     print(\"Warning: Some players are missing team information.\")\n",
    "#     print(missing_teams[[\"last_name, first_name\", \"TEAM\"]])\n"
   ]
  }
 ],
 "metadata": {
  "kernelspec": {
   "display_name": ".venv",
   "language": "python",
   "name": "python3"
  },
  "language_info": {
   "codemirror_mode": {
    "name": "ipython",
    "version": 3
   },
   "file_extension": ".py",
   "mimetype": "text/x-python",
   "name": "python",
   "nbconvert_exporter": "python",
   "pygments_lexer": "ipython3",
   "version": "3.12.3"
  }
 },
 "nbformat": 4,
 "nbformat_minor": 5
}
